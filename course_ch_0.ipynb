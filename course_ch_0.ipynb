{
  "nbformat": 4,
  "nbformat_minor": 0,
  "metadata": {
    "colab": {
      "provenance": [],
      "authorship_tag": "ABX9TyMAJu0gzm6rTcwaQjUZzEHt",
      "include_colab_link": true
    },
    "kernelspec": {
      "name": "python3",
      "display_name": "Python 3"
    },
    "language_info": {
      "name": "python"
    }
  },
  "cells": [
    {
      "cell_type": "markdown",
      "metadata": {
        "id": "view-in-github",
        "colab_type": "text"
      },
      "source": [
        "<a href=\"https://colab.research.google.com/github/ravindrakush11/Hugging-face/blob/main/course_ch_0.ipynb\" target=\"_parent\"><img src=\"https://colab.research.google.com/assets/colab-badge.svg\" alt=\"Open In Colab\"/></a>"
      ]
    },
    {
      "cell_type": "code",
      "execution_count": null,
      "metadata": {
        "id": "Mw4A0TDlNcXC"
      },
      "outputs": [],
      "source": [
        "!pip install -q transformers"
      ]
    },
    {
      "cell_type": "code",
      "source": [
        "import transformers"
      ],
      "metadata": {
        "id": "tC0qc3AFN2gZ"
      },
      "execution_count": null,
      "outputs": []
    },
    {
      "cell_type": "code",
      "source": [
        "# Installing the light version of 🤗 Transformers / development version of 🤗 Transformers\n",
        "\n",
        "!pip install -q transformers[sentencepiece]"
      ],
      "metadata": {
        "id": "lCXMsQhCN92O"
      },
      "execution_count": null,
      "outputs": []
    },
    {
      "cell_type": "markdown",
      "source": [
        "# Chapter 03"
      ],
      "metadata": {
        "id": "-ceD2zJbTCsG"
      }
    },
    {
      "cell_type": "markdown",
      "source": [
        "## Transformers are everywhere"
      ],
      "metadata": {
        "id": "nGeWiUiDPqaS"
      }
    },
    {
      "cell_type": "markdown",
      "source": [
        "### Woking with pipelines"
      ],
      "metadata": {
        "id": "DlesCxOyP-Wg"
      }
    },
    {
      "cell_type": "code",
      "source": [
        "from transformers import pipeline\n",
        "classifier = pipeline('sentiment-analysis')\n",
        "classifier(\"I am learning the LLMs' real use cases in the world.\")"
      ],
      "metadata": {
        "colab": {
          "base_uri": "https://localhost:8080/"
        },
        "id": "ilyF2mbyPr3Q",
        "outputId": "94e6d41e-f400-4aab-c05f-69dd7a7a278c"
      },
      "execution_count": null,
      "outputs": [
        {
          "output_type": "stream",
          "name": "stderr",
          "text": [
            "No model was supplied, defaulted to distilbert/distilbert-base-uncased-finetuned-sst-2-english and revision 714eb0f (https://huggingface.co/distilbert/distilbert-base-uncased-finetuned-sst-2-english).\n",
            "Using a pipeline without specifying a model name and revision in production is not recommended.\n",
            "Device set to use cpu\n"
          ]
        },
        {
          "output_type": "execute_result",
          "data": {
            "text/plain": [
              "[{'label': 'POSITIVE', 'score': 0.9985621571540833}]"
            ]
          },
          "metadata": {},
          "execution_count": 11
        }
      ]
    },
    {
      "cell_type": "code",
      "source": [
        "# Passing Several Sentences\n",
        "classifier(\n",
        "    [\"I am learning the LLM's real use cases in the world.\",\n",
        "     \"Why I hate the fundamentals of NLP?\"]\n",
        ")"
      ],
      "metadata": {
        "colab": {
          "base_uri": "https://localhost:8080/"
        },
        "id": "HZ41pofaQ58E",
        "outputId": "14785ecc-8943-4192-c771-3e02b86797d7"
      },
      "execution_count": null,
      "outputs": [
        {
          "output_type": "execute_result",
          "data": {
            "text/plain": [
              "[{'label': 'POSITIVE', 'score': 0.998688280582428},\n",
              " {'label': 'NEGATIVE', 'score': 0.999291181564331}]"
            ]
          },
          "metadata": {},
          "execution_count": 12
        }
      ]
    },
    {
      "cell_type": "markdown",
      "source": [
        "**There are three main steps involved when you pass some text to a pipeline:**\n",
        "\n",
        "The text is preprocessed into a format\n",
        "the model can understand.\n",
        "\n",
        "The preprocessed inputs are passed to the model.\n",
        "\n",
        "The predictions of the model are post-processed, so you can make sense of them."
      ],
      "metadata": {
        "id": "QKmF8UkTRkVC"
      }
    },
    {
      "cell_type": "code",
      "source": [],
      "metadata": {
        "id": "QQXYkvxlRs28"
      },
      "execution_count": null,
      "outputs": []
    },
    {
      "cell_type": "markdown",
      "source": [
        "## zero-shot-classification"
      ],
      "metadata": {
        "id": "eGdl1i0KSRT0"
      }
    },
    {
      "cell_type": "code",
      "source": [
        "from transformers import pipeline\n",
        "classifier = pipeline('zero-shot-classification')\n",
        "classifier(\n",
        "    'This is a course about the Transformers library',\n",
        "    candidate_labels = ['education', 'politics', 'business'],\n",
        ")"
      ],
      "metadata": {
        "id": "Qkc_x3s-SVSJ"
      },
      "execution_count": null,
      "outputs": []
    },
    {
      "cell_type": "markdown",
      "source": [
        "This pipeline is called zero-shot because you don't need to fine-tune the model on your data to use it. It can directly return probability scores for any list of labels you want!"
      ],
      "metadata": {
        "id": "x416W_KvS1Z3"
      }
    },
    {
      "cell_type": "markdown",
      "source": [
        "# Text Generation"
      ],
      "metadata": {
        "id": "kvfVz9vwS6da"
      }
    },
    {
      "cell_type": "code",
      "source": [],
      "metadata": {
        "id": "u3ZpES0lS2TV"
      },
      "execution_count": null,
      "outputs": []
    }
  ]
}